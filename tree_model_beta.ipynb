{
 "cells": [
  {
   "cell_type": "code",
   "execution_count": 4,
   "metadata": {},
   "outputs": [],
   "source": [
    "from sklearn.tree import DecisionTreeClassifier\n",
    "from sklearn.model_selection import cross_val_score\n",
    "from sklearn.metrics import accuracy_score\n",
    "import pandas as pd\n",
    "from sklearn.metrics import accuracy_score, precision_score, recall_score, f1_score, roc_auc_score, roc_curve\n",
    "\n",
    "import numpy as np\n",
    "import matplotlib.pyplot as plt\n",
    "import seaborn as sns\n",
    "%matplotlib inline\n",
    "#for encoding\n",
    "from sklearn.preprocessing import LabelEncoder\n",
    "#for train test splitting\n",
    "from sklearn.model_selection import train_test_split\n",
    "#for decision tree object\n",
    "from sklearn.tree import DecisionTreeClassifier\n",
    "#for checking testing results\n",
    "from sklearn.metrics import classification_report, confusion_matrix\n",
    "#for visualizing tree \n",
    "from sklearn.tree import plot_tree"
   ]
  },
  {
   "cell_type": "code",
   "execution_count": null,
   "metadata": {},
   "outputs": [],
   "source": []
  },
  {
   "cell_type": "code",
   "execution_count": 15,
   "metadata": {},
   "outputs": [],
   "source": [
    "def train_decision_tree(df):\n",
    "    df= df.dropna()\n",
    "    target = df['churned']\n",
    "    df1 = df.copy()\n",
    "    df1 = df1.drop(['churned','registration_date','is_opt_out','player_id'], axis =1)\n",
    "    X = df1\n",
    "    y = target\n",
    "    X_train, X_test, y_train, y_test = train_test_split(X , y, test_size = 0.2, random_state = 42)\n",
    "    dtree=DecisionTreeClassifier(criterion='entropy', max_depth=4)\n",
    "    dtree.fit(X_train,y_train)\n",
    "    print('Decision Tree Classifier Created')\n",
    "    scores = cross_val_score(dtree, X, y)\n",
    "    print(\"Cross-Validation scores: {}\".format(scores))\n",
    "    y_pred = dtree.predict(X_test)\n",
    "    \n",
    "    print(\"Classification report - \\n\", classification_report(y_test,y_pred))\n",
    "\n",
    "    return dtree"
   ]
  },
  {
   "cell_type": "code",
   "execution_count": 16,
   "metadata": {},
   "outputs": [],
   "source": [
    "def test_decision_tree(model, df):\n",
    "    df= df.dropna()\n",
    "    target = df['churned']\n",
    "    df1 = df.copy()\n",
    "    df1 = df1.drop(['churned','registration_date','is_opt_out','player_id'], axis =1)\n",
    "    X = df1\n",
    "    y = target\n",
    "    X_train, X_test, y_train, y_test = train_test_split(X , y, test_size = 0.2, random_state = 42)\n",
    "    y_pred = model.predict(X_test)\n",
    "   \n",
    "    accuracy = accuracy_score(y_test, y_pred)\n",
    "    print(\"Accuracy: {:.2f}%\".format(accuracy * 100))\n",
    "    return accuracy"
   ]
  },
  {
   "cell_type": "code",
   "execution_count": 20,
   "metadata": {},
   "outputs": [
    {
     "name": "stdout",
     "output_type": "stream",
     "text": [
      "Decision Tree Classifier Created\n",
      "Cross-Validation scores: [0.84119497 0.8416442  0.83760108 0.84430465 0.84677601]\n",
      "Classification report - \n",
      "               precision    recall  f1-score   support\n",
      "\n",
      "       False       0.86      0.96      0.91      3723\n",
      "        True       0.54      0.21      0.30       729\n",
      "\n",
      "    accuracy                           0.84      4452\n",
      "   macro avg       0.70      0.59      0.61      4452\n",
      "weighted avg       0.81      0.84      0.81      4452\n",
      "\n",
      "Accuracy: 87.19%\n"
     ]
    },
    {
     "data": {
      "text/plain": [
       "0.8719146097398266"
      ]
     },
     "execution_count": 20,
     "metadata": {},
     "output_type": "execute_result"
    }
   ],
   "source": [
    "df = pd.read_csv(r\"/Users/lovro_vrsalovic/Downloads/big_training_set_v7.csv\")\n",
    "#print(df.head())\n",
    "rows = len(df)\n",
    "df_train = df.drop(range(1,int(rows*0.75)))\n",
    "df_test = df.drop(range(int(rows*0.80),rows))\n",
    "model = train_decision_tree(df_train)\n",
    "test_decision_tree(model, df_test)\n"
   ]
  }
 ],
 "metadata": {
  "kernelspec": {
   "display_name": "Python 3",
   "language": "python",
   "name": "python3"
  },
  "language_info": {
   "codemirror_mode": {
    "name": "ipython",
    "version": 3
   },
   "file_extension": ".py",
   "mimetype": "text/x-python",
   "name": "python",
   "nbconvert_exporter": "python",
   "pygments_lexer": "ipython3",
   "version": "3.10.8"
  },
  "orig_nbformat": 4,
  "vscode": {
   "interpreter": {
    "hash": "aee8b7b246df8f9039afb4144a1f6fd8d2ca17a180786b69acc140d282b71a49"
   }
  }
 },
 "nbformat": 4,
 "nbformat_minor": 2
}
